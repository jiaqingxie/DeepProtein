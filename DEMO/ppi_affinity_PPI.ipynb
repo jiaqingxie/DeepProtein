{
 "cells": [
  {
   "cell_type": "markdown",
   "metadata": {},
   "source": [
    "This is the tutorial for protein protein interaction. The dataset that we use is called PPI Affinity."
   ]
  },
  {
   "cell_type": "markdown",
   "metadata": {},
   "source": [
    "First we import all necessary packages."
   ]
  },
  {
   "cell_type": "code",
   "execution_count": 1,
   "metadata": {},
   "outputs": [],
   "source": [
    "import os\n",
    "import sys\n",
    "import torch\n",
    "import wandb\n",
    "sys.path.append(os.path.abspath('..'))\n",
    "\n",
    "from DeepProtein.dataset import *\n",
    "import DeepProtein.utils as utils\n",
    "import DeepProtein.PPI as models"
   ]
  },
  {
   "cell_type": "markdown",
   "metadata": {},
   "source": [
    "Next we fix some hyperparamaters. Here we make wandb local."
   ]
  },
  {
   "cell_type": "code",
   "execution_count": 2,
   "metadata": {},
   "outputs": [
    {
     "name": "stderr",
     "output_type": "stream",
     "text": [
      "Failed to detect the name of this notebook, you can set it manually with the WANDB_NOTEBOOK_NAME environment variable to enable code saving.\n"
     ]
    },
    {
     "data": {
      "text/html": [
       "Tracking run with wandb version 0.17.4"
      ],
      "text/plain": [
       "<IPython.core.display.HTML object>"
      ]
     },
     "metadata": {},
     "output_type": "display_data"
    },
    {
     "data": {
      "text/html": [
       "W&B syncing is set to <code>`offline`<code> in this directory.  <br/>Run <code>`wandb online`<code> or set <code>WANDB_MODE=online<code> to enable cloud syncing."
      ],
      "text/plain": [
       "<IPython.core.display.HTML object>"
      ]
     },
     "metadata": {},
     "output_type": "display_data"
    },
    {
     "data": {
      "text/html": [
       "<button onClick=\"this.nextSibling.style.display='block';this.style.display='none';\">Display W&B run</button><iframe src='?jupyter=true' style='border:none;width:100%;height:420px;display:none;'></iframe>"
      ],
      "text/plain": [
       "<wandb.sdk.wandb_run.Run at 0x28a07e01af0>"
      ]
     },
     "execution_count": 2,
     "metadata": {},
     "output_type": "execute_result"
    }
   ],
   "source": [
    "wandb.init(mode='offline', name = \"PPI_Affinity\")"
   ]
  },
  {
   "cell_type": "code",
   "execution_count": 3,
   "metadata": {},
   "outputs": [],
   "source": [
    "lr = 0.001\n",
    "epochs = 20\n",
    "batch_size = 32\n",
    "seed = 7\n",
    "target_encoding = \"CNN\" # test only"
   ]
  },
  {
   "cell_type": "markdown",
   "metadata": {},
   "source": [
    "Next we load our dataset"
   ]
  },
  {
   "cell_type": "code",
   "execution_count": 4,
   "metadata": {},
   "outputs": [
    {
     "name": "stdout",
     "output_type": "stream",
     "text": [
      "Protein Protein Interaction Prediction Mode...\n",
      "in total: 2421 protein-protein pairs\n",
      "encoding protein...\n",
      "unique target sequence: 546\n",
      "encoding protein...\n",
      "unique target sequence: 1581\n",
      "Done.\n",
      "Protein Protein Interaction Prediction Mode...\n",
      "in total: 203 protein-protein pairs\n",
      "encoding protein...\n",
      "unique target sequence: 74\n",
      "encoding protein...\n",
      "unique target sequence: 138\n",
      "Done.\n",
      "Protein Protein Interaction Prediction Mode...\n",
      "in total: 326 protein-protein pairs\n",
      "encoding protein...\n",
      "unique target sequence: 60\n",
      "encoding protein...\n",
      "unique target sequence: 283\n",
      "Done.\n"
     ]
    }
   ],
   "source": [
    "train_ppi = PPI_Affinity('../DeepProtein/data', 'train')\n",
    "valid_ppi = PPI_Affinity('../DeepProtein/data', 'valid')\n",
    "test_ppi = PPI_Affinity('../DeepProtein/data', 'test')\n",
    "\n",
    "  \n",
    "\n",
    "train_protein_1, train_protein_2, train_target, train_protein_idx = collate_fn_ppi(train_ppi, graph=False, unsqueeze= False)\n",
    "valid_protein_1, valid_protein_2, valid_target, valid_protein_idx = collate_fn_ppi(valid_ppi, graph=False, unsqueeze= False)\n",
    "test_protein_1, test_protein_2, test_target, test_protein_idx = collate_fn_ppi(test_ppi, graph=False, unsqueeze= False)\n",
    "\n",
    "\n",
    "train, _, _ = data_process(X_target = train_protein_1, X_target_ = train_protein_2, y = train_target,\n",
    "                target_encoding = target_encoding,\n",
    "                split_method='random', frac=[0.99998, 1e-5, 1e-5],\n",
    "                random_seed = 1)\n",
    "_, val, _ = data_process(X_target = valid_protein_1, X_target_ = valid_protein_2, y = valid_target,\n",
    "                target_encoding = target_encoding,\n",
    "                split_method='random',frac=[1e-5, 0.99998, 1e-5],\n",
    "                random_seed = 1)\n",
    "\n",
    "_, _, test = data_process(X_target = test_protein_1, X_target_ = test_protein_2, y = test_target,\n",
    "                target_encoding = target_encoding,\n",
    "                split_method='random',frac=[1e-5, 1e-5, 0.99998],\n",
    "                random_seed = 1)\n",
    "\n",
    " "
   ]
  },
  {
   "cell_type": "markdown",
   "metadata": {},
   "source": [
    "load config"
   ]
  },
  {
   "cell_type": "code",
   "execution_count": 5,
   "metadata": {},
   "outputs": [],
   "source": [
    "config = generate_config(target_encoding = target_encoding,\n",
    "                             cls_hidden_dims = [512],\n",
    "                             train_epoch = epochs,\n",
    "                             LR = lr,\n",
    "                             batch_size = batch_size,\n",
    "                            )\n"
   ]
  },
  {
   "cell_type": "markdown",
   "metadata": {},
   "source": [
    "Set seed"
   ]
  },
  {
   "cell_type": "code",
   "execution_count": 6,
   "metadata": {},
   "outputs": [
    {
     "data": {
      "text/plain": [
       "<torch._C.Generator at 0x28a12149670>"
      ]
     },
     "execution_count": 6,
     "metadata": {},
     "output_type": "execute_result"
    }
   ],
   "source": [
    "torch.manual_seed(seed)\n"
   ]
  },
  {
   "cell_type": "markdown",
   "metadata": {},
   "source": [
    "Initialize the model and train the model"
   ]
  },
  {
   "cell_type": "code",
   "execution_count": 7,
   "metadata": {},
   "outputs": [
    {
     "name": "stdout",
     "output_type": "stream",
     "text": [
      "Let's use 1 GPU!\n",
      "--- Data Preparation ---\n",
      "--- Go for Training ---\n"
     ]
    },
    {
     "name": "stderr",
     "output_type": "stream",
     "text": [
      "e:\\anaconda3\\envs\\graph\\lib\\site-packages\\torch\\autograd\\graph.py:744: UserWarning: Plan failed with a cudnnException: CUDNN_BACKEND_EXECUTION_PLAN_DESCRIPTOR: cudnnFinalize Descriptor Failed cudnn_status: CUDNN_STATUS_NOT_SUPPORTED (Triggered internally at C:\\actions-runner\\_work\\pytorch\\pytorch\\builder\\windows\\pytorch\\aten\\src\\ATen\\native\\cudnn\\Conv_v8.cpp:919.)\n",
      "  return Variable._execution_engine.run_backward(  # Calls into the C++ engine to run the backward pass\n"
     ]
    },
    {
     "name": "stdout",
     "output_type": "stream",
     "text": [
      "Training at Epoch 1 iteration 0 with loss 153.762. Total time 0.00611 hours\n",
      "Validation at Epoch 1 , MAE: 2.34791 , MSE: 8.86821 , Pearson Correlation: 0.35290 with p-value: 2.42E-07 , Concordance Index: 0.64686\n",
      "Training at Epoch 2 iteration 0 with loss 13.4761. Total time 0.02 hours\n",
      "Validation at Epoch 2 , MAE: 1.96616 , MSE: 6.16059 , Pearson Correlation: 0.39718 with p-value: 4.43E-09 , Concordance Index: 0.64518\n",
      "Training at Epoch 3 iteration 0 with loss 6.68926. Total time 0.03416 hours\n",
      "Validation at Epoch 3 , MAE: 1.91880 , MSE: 5.91344 , Pearson Correlation: 0.45688 with p-value: 7.30E-12 , Concordance Index: 0.66433\n",
      "Training at Epoch 4 iteration 0 with loss 5.59096. Total time 0.04805 hours\n",
      "Validation at Epoch 4 , MAE: 2.24765 , MSE: 8.97241 , Pearson Correlation: 0.48548 with p-value: 2.12E-13 , Concordance Index: 0.67928\n",
      "Training at Epoch 5 iteration 0 with loss 4.19399. Total time 0.06194 hours\n",
      "Validation at Epoch 5 , MAE: 2.07486 , MSE: 7.92328 , Pearson Correlation: 0.51019 with p-value: 7.52E-15 , Concordance Index: 0.67804\n",
      "Training at Epoch 6 iteration 0 with loss 4.28246. Total time 0.07611 hours\n",
      "Validation at Epoch 6 , MAE: 1.99574 , MSE: 6.35065 , Pearson Correlation: 0.49882 with p-value: 3.61E-14 , Concordance Index: 0.67165\n",
      "Training at Epoch 7 iteration 0 with loss 2.95691. Total time 0.09027 hours\n",
      "Validation at Epoch 7 , MAE: 2.26342 , MSE: 9.80755 , Pearson Correlation: 0.51373 with p-value: 4.56E-15 , Concordance Index: 0.68141\n",
      "Training at Epoch 8 iteration 0 with loss 7.58637. Total time 0.10444 hours\n",
      "Validation at Epoch 8 , MAE: 2.06517 , MSE: 6.27410 , Pearson Correlation: 0.51917 with p-value: 2.09E-15 , Concordance Index: 0.69560\n",
      "Training at Epoch 9 iteration 0 with loss 4.25168. Total time 0.11861 hours\n",
      "Validation at Epoch 9 , MAE: 1.98058 , MSE: 6.94516 , Pearson Correlation: 0.53247 with p-value: 2.92E-16 , Concordance Index: 0.68646\n",
      "Training at Epoch 10 iteration 0 with loss 4.27792. Total time 0.1325 hours\n",
      "Validation at Epoch 10 , MAE: 2.02304 , MSE: 7.83681 , Pearson Correlation: 0.51897 with p-value: 2.15E-15 , Concordance Index: 0.69565\n",
      "Training at Epoch 11 iteration 0 with loss 2.68079. Total time 0.14638 hours\n",
      "Validation at Epoch 11 , MAE: 2.00729 , MSE: 7.75247 , Pearson Correlation: 0.52181 with p-value: 1.42E-15 , Concordance Index: 0.70270\n",
      "Training at Epoch 12 iteration 0 with loss 2.63963. Total time 0.16055 hours\n",
      "Validation at Epoch 12 , MAE: 1.94561 , MSE: 6.82065 , Pearson Correlation: 0.55435 with p-value: 9.46E-18 , Concordance Index: 0.70944\n",
      "Training at Epoch 13 iteration 0 with loss 2.32063. Total time 0.17444 hours\n",
      "Validation at Epoch 13 , MAE: 1.89807 , MSE: 6.86804 , Pearson Correlation: 0.56188 with p-value: 2.73E-18 , Concordance Index: 0.71405\n",
      "Training at Epoch 14 iteration 0 with loss 1.69575. Total time 0.18861 hours\n",
      "Validation at Epoch 14 , MAE: 2.14569 , MSE: 8.73934 , Pearson Correlation: 0.56187 with p-value: 2.74E-18 , Concordance Index: 0.72032\n",
      "Training at Epoch 15 iteration 0 with loss 3.35387. Total time 0.20277 hours\n",
      "Validation at Epoch 15 , MAE: 1.82007 , MSE: 6.16175 , Pearson Correlation: 0.60583 with p-value: 1.00E-21 , Concordance Index: 0.74025\n",
      "Training at Epoch 16 iteration 0 with loss 3.38831. Total time 0.21694 hours\n",
      "Validation at Epoch 16 , MAE: 1.83497 , MSE: 5.30346 , Pearson Correlation: 0.60495 with p-value: 1.19E-21 , Concordance Index: 0.75259\n",
      "Training at Epoch 17 iteration 0 with loss 3.92825. Total time 0.23111 hours\n",
      "Validation at Epoch 17 , MAE: 1.72836 , MSE: 5.67456 , Pearson Correlation: 0.58795 with p-value: 2.90E-20 , Concordance Index: 0.75611\n",
      "Training at Epoch 18 iteration 0 with loss 2.63115. Total time 0.245 hours\n",
      "Validation at Epoch 18 , MAE: 1.66030 , MSE: 5.30156 , Pearson Correlation: 0.62931 with p-value: 8.69E-24 , Concordance Index: 0.75769\n",
      "Training at Epoch 19 iteration 0 with loss 2.16098. Total time 0.25888 hours\n",
      "Validation at Epoch 19 , MAE: 1.61385 , MSE: 4.74196 , Pearson Correlation: 0.64521 with p-value: 2.75E-25 , Concordance Index: 0.75603\n",
      "Training at Epoch 20 iteration 0 with loss 4.54238. Total time 0.27333 hours\n",
      "Validation at Epoch 20 , MAE: 1.60352 , MSE: 4.93095 , Pearson Correlation: 0.64378 with p-value: 3.78E-25 , Concordance Index: 0.76652\n",
      "--- Go for Testing ---\n",
      "Testing MSE: 7.484126301898054 , MAE: 2.107841326415173 , Pearson Correlation: 0.4650345669530732 with p-value: 6.76E-19 , Concordance Index: 0.6682734112131866\n",
      "--- Training Finished ---\n"
     ]
    },
    {
     "data": {
      "image/png": "[encoded data removed]",
      "text/plain": [
       "<Figure size 640x480 with 1 Axes>"
      ]
     },
     "metadata": {},
     "output_type": "display_data"
    }
   ],
   "source": [
    "model = models.model_initialize(**config)\n",
    "model.train(train, val, test)"
   ]
  }
 ],
 "metadata": {
  "kernelspec": {
   "display_name": "graph",
   "language": "python",
   "name": "python3"
  },
  "language_info": {
   "codemirror_mode": {
    "name": "ipython",
    "version": 3
   },
   "file_extension": ".py",
   "mimetype": "text/x-python",
   "name": "python",
   "nbconvert_exporter": "python",
   "pygments_lexer": "ipython3",
   "version": "3.9.18"
  }
 },
 "nbformat": 4,
 "nbformat_minor": 2
}
