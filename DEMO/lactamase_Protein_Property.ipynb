{
 "cells": [
  {
   "cell_type": "markdown",
   "metadata": {},
   "source": [
    "This is the tutorial for protein property function. The dataset that we use is called beta lactamase."
   ]
  },
  {
   "cell_type": "markdown",
   "metadata": {},
   "source": [
    "First we import all necessary packages."
   ]
  },
  {
   "cell_type": "code",
   "execution_count": 1,
   "metadata": {},
   "outputs": [],
   "source": [
    "import os\n",
    "import sys\n",
    "import argparse\n",
    "import torch\n",
    "import wandb\n",
    "sys.path.append(os.path.abspath('..'))\n",
    "\n",
    "from DeepProtein.dataset import *\n",
    "import DeepProtein.utils as utils\n",
    "import DeepProtein.ProteinPred as models"
   ]
  },
  {
   "cell_type": "markdown",
   "metadata": {},
   "source": [
    "Next we fix some hyperparamaters. Here we make wandb local."
   ]
  },
  {
   "cell_type": "code",
   "execution_count": 2,
   "metadata": {},
   "outputs": [
    {
     "name": "stderr",
     "output_type": "stream",
     "text": [
      "Failed to detect the name of this notebook, you can set it manually with the WANDB_NOTEBOOK_NAME environment variable to enable code saving.\n"
     ]
    },
    {
     "data": {
      "text/html": [
       "Tracking run with wandb version 0.17.4"
      ],
      "text/plain": [
       "<IPython.core.display.HTML object>"
      ]
     },
     "metadata": {},
     "output_type": "display_data"
    },
    {
     "data": {
      "text/html": [
       "W&B syncing is set to <code>`offline`<code> in this directory.  <br/>Run <code>`wandb online`<code> or set <code>WANDB_MODE=online<code> to enable cloud syncing."
      ],
      "text/plain": [
       "<IPython.core.display.HTML object>"
      ]
     },
     "metadata": {},
     "output_type": "display_data"
    },
    {
     "data": {
      "text/html": [
       "<button onClick=\"this.nextSibling.style.display='block';this.style.display='none';\">Display W&B run</button><iframe src='?jupyter=true' style='border:none;width:100%;height:420px;display:none;'></iframe>"
      ],
      "text/plain": [
       "<wandb.sdk.wandb_run.Run at 0x16177a13c10>"
      ]
     },
     "execution_count": 2,
     "metadata": {},
     "output_type": "execute_result"
    }
   ],
   "source": [
    "wandb.init(mode='offline', name = \"PPI_Affinity\")"
   ]
  },
  {
   "cell_type": "code",
   "execution_count": 3,
   "metadata": {},
   "outputs": [],
   "source": [
    "lr = 0.0001\n",
    "epochs = 20\n",
    "batch_size = 32\n",
    "seed = 7\n",
    "target_encoding = \"CNN\" # test only"
   ]
  },
  {
   "cell_type": "markdown",
   "metadata": {},
   "source": [
    "Next we load our dataset"
   ]
  },
  {
   "cell_type": "code",
   "execution_count": 4,
   "metadata": {},
   "outputs": [],
   "source": [
    "train_beta = Beta_lactamase('../DeepProtein/data', 'train')\n",
    "valid_beta = Beta_lactamase('../DeepProtein/data', 'valid')\n",
    "test_beta = Beta_lactamase('../DeepProtein/data', 'test')"
   ]
  },
  {
   "cell_type": "code",
   "execution_count": 5,
   "metadata": {},
   "outputs": [],
   "source": [
    "train_protein_processed, train_target, train_protein_idx = collate_fn(train_beta)\n",
    "valid_protein_processed, valid_target, valid_protein_idx = collate_fn(valid_beta)\n",
    "test_protein_processed, test_target, test_protein_idx = collate_fn(test_beta)"
   ]
  },
  {
   "cell_type": "code",
   "execution_count": 6,
   "metadata": {},
   "outputs": [
    {
     "name": "stdout",
     "output_type": "stream",
     "text": [
      "Protein Function Prediction Mode...\n",
      "in total: 4158 proteins\n",
      "encoding protein...\n",
      "unique target sequence: 4158\n",
      "Done.\n",
      "Protein Function Prediction Mode...\n",
      "in total: 520 proteins\n",
      "encoding protein...\n",
      "unique target sequence: 520\n",
      "Done.\n",
      "Protein Function Prediction Mode...\n",
      "in total: 520 proteins\n",
      "encoding protein...\n",
      "unique target sequence: 520\n",
      "Done.\n"
     ]
    }
   ],
   "source": [
    "train, _, _ = utils.data_process(X_target=train_protein_processed, y=train_target, target_encoding=target_encoding,\n",
    "                                    # drug_encoding= drug_encoding,\n",
    "                                    split_method='random', frac=[0.99998, 1e-5, 1e-5],\n",
    "                                    random_seed=1)\n",
    "\n",
    "_, val, _ = utils.data_process(X_target=valid_protein_processed, y=valid_target, target_encoding=target_encoding,\n",
    "                                # drug_encoding= drug_encoding,\n",
    "                                split_method='random', frac=[1e-5, 0.99998, 1e-5],\n",
    "                                random_seed=1)\n",
    "\n",
    "_, _, test = utils.data_process(X_target=test_protein_processed, y=test_target, target_encoding=target_encoding,\n",
    "                                # drug_encoding= drug_encoding,\n",
    "                                split_method='random', frac=[1e-5, 1e-5, 0.99998],\n",
    "                                random_seed=1)"
   ]
  },
  {
   "cell_type": "markdown",
   "metadata": {},
   "source": [
    "Load configuration"
   ]
  },
  {
   "cell_type": "code",
   "execution_count": 7,
   "metadata": {},
   "outputs": [],
   "source": [
    "\n",
    "config = generate_config(target_encoding=target_encoding,\n",
    "                            cls_hidden_dims=[1024, 1024],\n",
    "                            train_epoch=epochs,\n",
    "                            LR=lr,\n",
    "                            batch_size=batch_size ,\n",
    "                            )\n",
    "config['multi'] = False"
   ]
  },
  {
   "cell_type": "markdown",
   "metadata": {},
   "source": [
    "Set seed"
   ]
  },
  {
   "cell_type": "code",
   "execution_count": 8,
   "metadata": {},
   "outputs": [
    {
     "data": {
      "text/plain": [
       "<torch._C.Generator at 0x161342c9670>"
      ]
     },
     "execution_count": 8,
     "metadata": {},
     "output_type": "execute_result"
    }
   ],
   "source": [
    "torch.manual_seed(seed)\n"
   ]
  },
  {
   "cell_type": "markdown",
   "metadata": {},
   "source": [
    "Load model and train"
   ]
  },
  {
   "cell_type": "code",
   "execution_count": 9,
   "metadata": {},
   "outputs": [
    {
     "name": "stdout",
     "output_type": "stream",
     "text": [
      "Let's use 1 GPU!\n",
      "--- Data Preparation ---\n",
      "--- Go for Training ---\n"
     ]
    },
    {
     "name": "stderr",
     "output_type": "stream",
     "text": [
      "e:\\anaconda3\\envs\\graph\\lib\\site-packages\\torch\\autograd\\graph.py:744: UserWarning: Plan failed with a cudnnException: CUDNN_BACKEND_EXECUTION_PLAN_DESCRIPTOR: cudnnFinalize Descriptor Failed cudnn_status: CUDNN_STATUS_NOT_SUPPORTED (Triggered internally at C:\\actions-runner\\_work\\pytorch\\pytorch\\builder\\windows\\pytorch\\aten\\src\\ATen\\native\\cudnn\\Conv_v8.cpp:919.)\n",
      "  return Variable._execution_engine.run_backward(  # Calls into the C++ engine to run the backward pass\n"
     ]
    },
    {
     "name": "stdout",
     "output_type": "stream",
     "text": [
      "Training at Epoch 1 iteration 0 with loss 0.60325. Total time 0.00611 hours\n",
      "Training at Epoch 1 iteration 100 with loss 0.14836. Total time 0.00722 hours\n",
      "Validation at Epoch 1 , MAE: 0.28039 , MSE: 0.10288 , Spearman Correlation: 0.03946 with p-value: 3.69E-01 , Concordance Index: 0.51339\n",
      "Training at Epoch 2 iteration 0 with loss 0.11994. Total time 0.01972 hours\n",
      "Training at Epoch 2 iteration 100 with loss 0.11785. Total time 0.02111 hours\n",
      "Validation at Epoch 2 , MAE: 0.25531 , MSE: 0.09920 , Spearman Correlation: 0.07149 with p-value: 1.03E-01 , Concordance Index: 0.52361\n",
      "Training at Epoch 3 iteration 0 with loss 0.09509. Total time 0.03361 hours\n",
      "Training at Epoch 3 iteration 100 with loss 0.15386. Total time 0.035 hours\n",
      "Validation at Epoch 3 , MAE: 0.25639 , MSE: 0.09914 , Spearman Correlation: 0.19788 with p-value: 5.45E-06 , Concordance Index: 0.56621\n",
      "Training at Epoch 4 iteration 0 with loss 0.12765. Total time 0.0475 hours\n",
      "Training at Epoch 4 iteration 100 with loss 0.08382. Total time 0.04888 hours\n",
      "Validation at Epoch 4 , MAE: 0.28163 , MSE: 0.10321 , Spearman Correlation: 0.25584 with p-value: 3.24E-09 , Concordance Index: 0.58742\n",
      "Training at Epoch 5 iteration 0 with loss 0.06673. Total time 0.06166 hours\n",
      "Training at Epoch 5 iteration 100 with loss 0.06847. Total time 0.06305 hours\n",
      "Validation at Epoch 5 , MAE: 0.26916 , MSE: 0.10017 , Spearman Correlation: 0.30720 with p-value: 7.93E-13 , Concordance Index: 0.60520\n",
      "Training at Epoch 6 iteration 0 with loss 0.09371. Total time 0.07583 hours\n",
      "Training at Epoch 6 iteration 100 with loss 0.08309. Total time 0.07722 hours\n",
      "Validation at Epoch 6 , MAE: 0.26100 , MSE: 0.09913 , Spearman Correlation: 0.33356 with p-value: 5.58E-15 , Concordance Index: 0.61490\n",
      "Training at Epoch 7 iteration 0 with loss 0.09480. Total time 0.09 hours\n",
      "Training at Epoch 7 iteration 100 with loss 0.08611. Total time 0.09138 hours\n",
      "Validation at Epoch 7 , MAE: 0.24481 , MSE: 0.10022 , Spearman Correlation: 0.35635 with p-value: 5.15E-17 , Concordance Index: 0.62251\n",
      "Training at Epoch 8 iteration 0 with loss 0.10713. Total time 0.10388 hours\n",
      "Training at Epoch 8 iteration 100 with loss 0.11166. Total time 0.10527 hours\n",
      "Validation at Epoch 8 , MAE: 0.28947 , MSE: 0.10581 , Spearman Correlation: 0.35991 with p-value: 2.39E-17 , Concordance Index: 0.62389\n",
      "Training at Epoch 9 iteration 0 with loss 0.09195. Total time 0.11805 hours\n",
      "Training at Epoch 9 iteration 100 with loss 0.09761. Total time 0.11944 hours\n",
      "Validation at Epoch 9 , MAE: 0.26807 , MSE: 0.09973 , Spearman Correlation: 0.39742 with p-value: 4.02E-21 , Concordance Index: 0.63637\n",
      "Training at Epoch 10 iteration 0 with loss 0.09650. Total time 0.13222 hours\n",
      "Training at Epoch 10 iteration 100 with loss 0.10099. Total time 0.13333 hours\n",
      "Validation at Epoch 10 , MAE: 0.25779 , MSE: 0.09849 , Spearman Correlation: 0.37107 with p-value: 2.02E-18 , Concordance Index: 0.62692\n",
      "Training at Epoch 11 iteration 0 with loss 0.09160. Total time 0.14583 hours\n",
      "Training at Epoch 11 iteration 100 with loss 0.09940. Total time 0.14722 hours\n",
      "Validation at Epoch 11 , MAE: 0.27325 , MSE: 0.10046 , Spearman Correlation: 0.38376 with p-value: 1.09E-19 , Concordance Index: 0.63148\n",
      "Training at Epoch 12 iteration 0 with loss 0.07503. Total time 0.15972 hours\n",
      "Training at Epoch 12 iteration 100 with loss 0.12077. Total time 0.16111 hours\n",
      "Validation at Epoch 12 , MAE: 0.26834 , MSE: 0.09918 , Spearman Correlation: 0.39354 with p-value: 1.04E-20 , Concordance Index: 0.63525\n",
      "Training at Epoch 13 iteration 0 with loss 0.09036. Total time 0.17416 hours\n",
      "Training at Epoch 13 iteration 100 with loss 0.08257. Total time 0.17527 hours\n",
      "Validation at Epoch 13 , MAE: 0.26196 , MSE: 0.09754 , Spearman Correlation: 0.37684 with p-value: 5.43E-19 , Concordance Index: 0.62920\n",
      "Training at Epoch 14 iteration 0 with loss 0.12204. Total time 0.18805 hours\n",
      "Training at Epoch 14 iteration 100 with loss 0.09680. Total time 0.18944 hours\n",
      "Validation at Epoch 14 , MAE: 0.27246 , MSE: 0.09869 , Spearman Correlation: 0.38846 with p-value: 3.55E-20 , Concordance Index: 0.63367\n",
      "Training at Epoch 15 iteration 0 with loss 0.07557. Total time 0.20194 hours\n",
      "Training at Epoch 15 iteration 100 with loss 0.11436. Total time 0.20333 hours\n",
      "Validation at Epoch 15 , MAE: 0.24921 , MSE: 0.09432 , Spearman Correlation: 0.40281 with p-value: 1.05E-21 , Concordance Index: 0.63862\n",
      "Training at Epoch 16 iteration 0 with loss 0.13546. Total time 0.21611 hours\n",
      "Training at Epoch 16 iteration 100 with loss 0.05881. Total time 0.2175 hours\n",
      "Validation at Epoch 16 , MAE: 0.24987 , MSE: 0.09116 , Spearman Correlation: 0.39981 with p-value: 2.22E-21 , Concordance Index: 0.63725\n",
      "Training at Epoch 17 iteration 0 with loss 0.08335. Total time 0.23 hours\n",
      "Training at Epoch 17 iteration 100 with loss 0.10740. Total time 0.23111 hours\n",
      "Validation at Epoch 17 , MAE: 0.28126 , MSE: 0.09792 , Spearman Correlation: 0.41559 with p-value: 3.92E-23 , Concordance Index: 0.64271\n",
      "Training at Epoch 18 iteration 0 with loss 0.09387. Total time 0.24388 hours\n",
      "Training at Epoch 18 iteration 100 with loss 0.05974. Total time 0.245 hours\n",
      "Validation at Epoch 18 , MAE: 0.23498 , MSE: 0.08397 , Spearman Correlation: 0.42465 with p-value: 3.50E-24 , Concordance Index: 0.64564\n",
      "Training at Epoch 19 iteration 0 with loss 0.06589. Total time 0.25777 hours\n",
      "Training at Epoch 19 iteration 100 with loss 0.02869. Total time 0.25916 hours\n",
      "Validation at Epoch 19 , MAE: 0.25475 , MSE: 0.08466 , Spearman Correlation: 0.49870 with p-value: 4.77E-34 , Concordance Index: 0.67182\n",
      "Training at Epoch 20 iteration 0 with loss 0.08787. Total time 0.27194 hours\n",
      "Training at Epoch 20 iteration 100 with loss 0.17954. Total time 0.27305 hours\n",
      "Validation at Epoch 20 , MAE: 0.22293 , MSE: 0.07817 , Spearman Correlation: 0.50819 with p-value: 1.70E-35 , Concordance Index: 0.67529\n",
      "--- Go for Testing ---\n",
      "Testing MSE: 0.07588887643926069 , MAE: 0.2166960984938599 , Spearman Correlation: 0.5595528455006911 with p-value: 3.55E-44 , Concordance Index: 0.69479532120367\n",
      "--- Training Finished ---\n"
     ]
    },
    {
     "data": {
      "image/png": "[encoded data removed]",
      "text/plain": [
       "<Figure size 640x480 with 1 Axes>"
      ]
     },
     "metadata": {},
     "output_type": "display_data"
    }
   ],
   "source": [
    "model = models.model_initialize(**config)\n",
    "model.train(train, val, test, compute_pos_enc = False)"
   ]
  }
 ],
 "metadata": {
  "kernelspec": {
   "display_name": "graph",
   "language": "python",
   "name": "python3"
  },
  "language_info": {
   "codemirror_mode": {
    "name": "ipython",
    "version": 3
   },
   "file_extension": ".py",
   "mimetype": "text/x-python",
   "name": "python",
   "nbconvert_exporter": "python",
   "pygments_lexer": "ipython3",
   "version": "3.9.18"
  }
 },
 "nbformat": 4,
 "nbformat_minor": 2
}
